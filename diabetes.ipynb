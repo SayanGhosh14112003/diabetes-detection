{
 "cells": [
  {
   "cell_type": "code",
   "execution_count": 30,
   "id": "2adbfbbc",
   "metadata": {},
   "outputs": [],
   "source": [
    "from sklearn.datasets import load_diabetes\n",
    "import matplotlib.pyplot as plt"
   ]
  },
  {
   "cell_type": "code",
   "execution_count": 6,
   "id": "5cca4122",
   "metadata": {},
   "outputs": [],
   "source": [
    "diabetes=load_diabetes()"
   ]
  },
  {
   "cell_type": "code",
   "execution_count": 7,
   "id": "95724602",
   "metadata": {},
   "outputs": [],
   "source": [
    "x=diabetes['data']\n",
    "y=diabetes['target']"
   ]
  },
  {
   "cell_type": "code",
   "execution_count": 8,
   "id": "64765c06",
   "metadata": {},
   "outputs": [],
   "source": [
    "from sklearn.model_selection import train_test_split"
   ]
  },
  {
   "cell_type": "code",
   "execution_count": 34,
   "id": "8d0ac04d",
   "metadata": {},
   "outputs": [],
   "source": [
    "x_train,x_test,y_train,y_test=train_test_split(x,y,test_size=0.1,random_state=42)"
   ]
  },
  {
   "cell_type": "code",
   "execution_count": 35,
   "id": "0ffaa170",
   "metadata": {},
   "outputs": [],
   "source": [
    "from sklearn.linear_model import LinearRegression"
   ]
  },
  {
   "cell_type": "code",
   "execution_count": 36,
   "id": "57ed3932",
   "metadata": {},
   "outputs": [],
   "source": [
    "knn=LinearRegression()"
   ]
  },
  {
   "cell_type": "code",
   "execution_count": 37,
   "id": "24254f22",
   "metadata": {},
   "outputs": [],
   "source": [
    "knn.fit(x_train,y_train)\n",
    "y_pre=knn.predict(x_test)"
   ]
  },
  {
   "cell_type": "code",
   "execution_count": 38,
   "id": "14dcaaa9",
   "metadata": {},
   "outputs": [
    {
     "data": {
      "text/plain": [
       "array([143.06549158, 177.7061702 , 134.79901866, 288.67009951,\n",
       "       123.58658064,  96.64279345, 252.70727574, 183.51437294,\n",
       "        93.96679126, 109.83567271,  98.04584067, 168.6157848 ,\n",
       "        58.09603726, 206.59004617, 102.4046759 , 130.25483366,\n",
       "       218.05518616, 245.91819051, 193.24561396, 214.36953807,\n",
       "       208.82839114,  90.55628576,  74.15157442, 187.12342576,\n",
       "       156.3642741 , 157.46594185, 184.17437321, 177.18270901,\n",
       "        52.24311033, 110.66618343, 174.05770617,  90.8969391 ,\n",
       "       133.07838489, 183.22702102, 173.93636697, 189.8528273 ,\n",
       "       125.8627716 , 121.53079768, 148.94645924,  60.82914409,\n",
       "        76.36004131, 106.39774469, 162.2028406 , 153.15220926,\n",
       "       174.23219731])"
      ]
     },
     "execution_count": 38,
     "metadata": {},
     "output_type": "execute_result"
    }
   ],
   "source": [
    "y_pre"
   ]
  },
  {
   "cell_type": "code",
   "execution_count": 39,
   "id": "a85896e3",
   "metadata": {},
   "outputs": [
    {
     "data": {
      "text/plain": [
       "array([219.,  70., 202., 230., 111.,  84., 242., 272.,  94.,  96.,  94.,\n",
       "       252.,  99., 297., 135.,  67., 295., 264., 170., 275., 310.,  64.,\n",
       "       128., 232., 129., 118., 263.,  77.,  48., 107., 140., 113.,  90.,\n",
       "       164., 180., 233.,  42.,  84., 172.,  63.,  48., 108., 156., 168.,\n",
       "        90.])"
      ]
     },
     "execution_count": 39,
     "metadata": {},
     "output_type": "execute_result"
    }
   ],
   "source": [
    "y_test"
   ]
  }
 ],
 "metadata": {
  "kernelspec": {
   "display_name": "Python 3 (ipykernel)",
   "language": "python",
   "name": "python3"
  },
  "language_info": {
   "codemirror_mode": {
    "name": "ipython",
    "version": 3
   },
   "file_extension": ".py",
   "mimetype": "text/x-python",
   "name": "python",
   "nbconvert_exporter": "python",
   "pygments_lexer": "ipython3",
   "version": "3.11.1"
  }
 },
 "nbformat": 4,
 "nbformat_minor": 5
}
